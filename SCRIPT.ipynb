{
 "cells": [
  {
   "cell_type": "markdown",
   "id": "ad6be0ce",
   "metadata": {},
   "source": [
    "Η συλλογή των δεδομένων έγινε δια χειρός μέσα από τις εκθέσεις των επιθέσεων ρατσιστικής βίας τα έτη 2015 και 2020 και επικεντρώθηκαν στις ρατσιστικές επιθέσεις εναντίον προσφύγων/μεταναστών. Η ανάλυση των δεδομένων έγινε ως εξής:\n",
    "\n",
    "1.Εισαγωή pandas και matplotlib\n",
    "\n",
    "import pandas as pd\n",
    "import matplotlib.pyplot as plt"
   ]
  },
  {
   "cell_type": "markdown",
   "id": "13fbb5a2",
   "metadata": {},
   "source": [
    "\n",
    "# victim nationality data in lists (2015, 2020)- Δημιουργία λίστας δεδομένων ξεχωριστά για κάθε χρονολογία(2015,2020) χωρισμένη σε εθνικότητες θυμάτων('nationality') και περιστατικά('incidents').\n",
    "\n",
    "victim_nationalities_2015 = {\n",
    "    'nationality': ['Egypt', 'Ethiopia', 'Afghanistan', 'Bulgaria', 'India', 'Iraq', 'Iran', 'Bangladesh', 'Nigeria', 'Pakistan', 'Sudan', 'Syria'],\n",
    "    'incidents': [7, 5, 11, 1, 1, 1, 3, 27, 2, 14, 1, 3],\n",
    "}\n",
    "\n",
    "victim_nationalities_2020 = {\n",
    "    'nationality': ['Afghanistan', 'Syria', 'Palestine', 'Sierra Leone', 'Mixed Nationalities', 'Egypt', 'Cameroon', 'Bangladesh', 'Côte d\\'Ivoire', 'Guinea', 'Denmark', 'Iraqs', 'Iran', 'Morocco', 'Pakistan', 'Syria/Palestine', 'Kurdish Origin'],\n",
    "    'incidents': [10, 9, 6, 6, 6, 2, 2, 2, 1, 1, 1, 1, 1, 1, 1, 1, 1],\n",
    "}"
   ]
  },
  {
   "cell_type": "markdown",
   "id": "464693f7",
   "metadata": {},
   "source": [
    "# create victim nationality data frames from lists-Μετατροπή τις δύο λίστες σε DataFrame για την ένωση τους\n",
    "victim_nationalities_2015_df = pd.DataFrame(victim_nationalities_2015)\n",
    "victim_nationalities_2020_df = pd.DataFrame(victim_nationalities_2020)\n",
    "\n",
    "# merged victim nationallity data frame (outer join)-Ένωση όλων των δεδομένων των λιστών σε πίνακα \n",
    "victim_nationalities_df = pd.merge(victim_nationalities_2015_df, victim_nationalities_2020_df, how='outer',\n",
    "                                   on=\"nationality\", suffixes=(\"_2015\", \"_2020\")).fillna(0)"
   ]
  },
  {
   "cell_type": "markdown",
   "id": "03228d46",
   "metadata": {},
   "source": [
    "# print victim nationality table-Εκτύπωση του πίνακα\n",
    "victim_nationalities_df"
   ]
  },
  {
   "cell_type": "markdown",
   "id": "58823c38",
   "metadata": {},
   "source": [
    "# show plot for victim nationalities-Δημιουργία διαγράμματος \"Εθνικότητες Θυμάτων\" συγκριτικά και τα δύο έτη \n",
    "victim_nationalities_df.plot(kind='barh', x='nationality', title='Victim Nationalities')\n",
    "plt.show()"
   ]
  },
  {
   "cell_type": "markdown",
   "id": "172b2a75",
   "metadata": {},
   "source": [
    "# victim legal status data in lists (2015, 2020)\n",
    "victim_legal_status_2015 = {\n",
    "    'legal_status': ['Permanent residents', 'EU citizen', 'Asylum seekers', 'Refugees', 'New arrivals', 'Undocumented', 'No status'],\n",
    "    'count': [4, 1, 12, 2, 7, 3, 46]\n",
    "}\n",
    "\n",
    "victim_legal_status_2020 = {\n",
    "    'legal_status': ['Asylum seekers', 'Refugees', 'Immigrants', 'Without a residence permit', 'Different types of legal status', 'European citizen of foreign origin'],\n",
    "    'count': [28, 4, 6, 4, 3, 1]\n",
    "}"
   ]
  },
  {
   "cell_type": "markdown",
   "id": "e39590c7",
   "metadata": {},
   "source": [
    "# create victim legal status data frames from lists\n",
    "victim_legal_status_2015_df = pd.DataFrame(victim_legal_status_2015)\n",
    "victim_legal_status_2020_df = pd.DataFrame(victim_legal_status_2020)\n",
    "\n",
    "# merged victim legal status data frame (outer join)\n",
    "victim_legal_status_df = pd.merge(victim_legal_status_2015_df, victim_legal_status_2020_df,\n",
    "                                  how='outer', on=\"legal_status\", suffixes=(\"_2015\", \"_2020\")).fillna(0)"
   ]
  },
  {
   "cell_type": "markdown",
   "id": "8d5b4ace",
   "metadata": {},
   "source": [
    "# print victim legal status table\n",
    "victim_legal_status_df"
   ]
  },
  {
   "cell_type": "markdown",
   "id": "0d3d3c33",
   "metadata": {},
   "source": [
    "# show plot for victim legal status\n",
    "victim_legal_status_df.plot(kind='barh', x='legal_status', title='Victim Legal Status')\n",
    "plt.show()"
   ]
  },
  {
   "cell_type": "markdown",
   "id": "a941249b",
   "metadata": {},
   "source": [
    "# victim genders data in lists (2015, 2020)\n",
    "victim_gender_2015 = {\n",
    "    'gender': ['male', 'female'],\n",
    "    'incidents': [70, 5]\n",
    "}\n",
    "victim_gender_2020 = {\n",
    "    'gender': ['male', 'female', 'other'],\n",
    "    'incidents': [40, 1, 37]\n",
    "}"
   ]
  },
  {
   "cell_type": "markdown",
   "id": "f2792868",
   "metadata": {},
   "source": [
    "# create victim genders data frames from lists\n",
    "victim_gender_2015_df = pd.DataFrame(victim_gender_2015)\n",
    "victim_gender_2020_df = pd.DataFrame(victim_gender_2020)\n",
    "\n",
    "# merged victim genders data frame (outer join)\n",
    "victim_gender_df = pd.merge(victim_gender_2015_df, victim_gender_2020_df,\n",
    "                            how='outer', on=\"gender\", suffixes=(\"_2015\", \"_2020\")).fillna(0)"
   ]
  },
  {
   "cell_type": "markdown",
   "id": "8a37fb2e",
   "metadata": {},
   "source": [
    "# print victim genders table\n",
    "victim_gender_df"
   ]
  },
  {
   "cell_type": "markdown",
   "id": "631817ea",
   "metadata": {},
   "source": [
    "# show plot for victim genders\n",
    "victim_gender_df.plot(kind='barh', x='gender', title='Victim Genders')\n",
    "plt.show()"
   ]
  },
  {
   "cell_type": "markdown",
   "id": "60951ff4",
   "metadata": {},
   "source": [
    "# perpetrator nationalities data in lists (2015, 2020)\n",
    "perpetrator_nationalities_2015 = {\n",
    "    'nationality': ['Greek', 'Other'],\n",
    "    'incidents': [71, 3],\n",
    "}\n",
    "\n",
    "perpetrator_nationalities_2020 = {\n",
    "    'nationality': ['Greek', 'EU Citizen', 'Egyptian'],\n",
    "    'incidents': [73, 1, 1],\n",
    "}"
   ]
  },
  {
   "cell_type": "markdown",
   "id": "6e00f966",
   "metadata": {},
   "source": [
    "# create perpetrator nationalities data frames from lists\n",
    "perpetrator_nationalities_2015_df = pd.DataFrame(perpetrator_nationalities_2015)\n",
    "perpetrator_nationalities_2020_df = pd.DataFrame(perpetrator_nationalities_2020)\n",
    "\n",
    "# merged perpetrator nationalities data frame (outer join)\n",
    "perpetrator_nationalities_df = pd.merge(perpetrator_nationalities_2015_df, perpetrator_nationalities_2020_df, how='outer',\n",
    "                                        on=\"nationality\", suffixes=(\"_2015\", \"_2020\")).fillna(0)"
   ]
  },
  {
   "cell_type": "markdown",
   "id": "93768203",
   "metadata": {},
   "source": [
    "# print perpetrator nationalities table\n",
    "perpetrator_nationalities_df"
   ]
  },
  {
   "cell_type": "markdown",
   "id": "e617eeed",
   "metadata": {},
   "source": [
    "# show plot for perpetrator nationalities\n",
    "perpetrator_nationalities_df.plot(kind='barh', x='nationality', title='Perpetrator Nationalities')\n",
    "plt.show()"
   ]
  },
  {
   "cell_type": "markdown",
   "id": "068f70bb",
   "metadata": {},
   "source": [
    "# perpetrator genders data in lists (2015, 2020)\n",
    "perpetrator_gender_2015 = {\n",
    "    'gender': ['male', 'female'],\n",
    "    'incidents': [66, 6]\n",
    "}\n",
    "\n",
    "perpetrator_gender_2020 = {\n",
    "    'gender': ['male', 'female', 'other'],\n",
    "    'incidents': [57, 2, 15]\n",
    "}"
   ]
  },
  {
   "cell_type": "markdown",
   "id": "5cafbd12",
   "metadata": {},
   "source": [
    "# create perpetrator genders data frames from lists\n",
    "perpetrator_gender_2015_df = pd.DataFrame(perpetrator_gender_2015)\n",
    "perpetrator_gender_2020_df = pd.DataFrame(perpetrator_gender_2020)\n",
    "\n",
    "# merged perpetrator genders data frame (outer join)\n",
    "perpetrator_gender_df = pd.merge(perpetrator_gender_2015_df, perpetrator_gender_2020_df,\n",
    "                                 how='outer', on=\"gender\", suffixes=(\"_2015\", \"_2020\")).fillna(0)"
   ]
  },
  {
   "cell_type": "markdown",
   "id": "ac01abef",
   "metadata": {},
   "source": [
    "# print perpetrator genders table\n",
    "perpetrator_gender_df"
   ]
  },
  {
   "cell_type": "markdown",
   "id": "7293bf13",
   "metadata": {},
   "source": [
    "# show plot for perpetrator genders\n",
    "perpetrator_gender_df.plot(kind='barh', x='gender', title='Perpetrator Genders')\n",
    "plt.show()"
   ]
  },
  {
   "cell_type": "markdown",
   "id": "d12c55db",
   "metadata": {},
   "source": [
    "# perpetrator ages data in lists (2015, 2020)\n",
    "perpetrator_age_2015 = {\n",
    "    'age': ['Under 18', 'Up to 75'],\n",
    "    'incidents': [0, 67]\n",
    "}\n",
    "\n",
    "perpetrator_age_2020 = {\n",
    "    'age': ['Under 18', 'Up to 75'],\n",
    "    'incidents': [3, 75]\n",
    "}"
   ]
  },
  {
   "cell_type": "markdown",
   "id": "b67f81ad",
   "metadata": {},
   "source": [
    "# create perpetrator ages data frames from lists\n",
    "perpetrator_age_2015_df = pd.DataFrame(perpetrator_age_2015)\n",
    "perpetrator_age_2020_df = pd.DataFrame(perpetrator_age_2020)\n",
    "\n",
    "# merged perpetrator ages data frame (outer join)\n",
    "perpetrator_age_df = pd.merge(perpetrator_age_2015_df, perpetrator_age_2020_df,\n",
    "                              how='outer', on=\"age\", suffixes=(\"_2015\", \"_2020\")).fillna(0)"
   ]
  },
  {
   "cell_type": "markdown",
   "id": "970a36ad",
   "metadata": {},
   "source": [
    "# print perpetrator ages table\n",
    "perpetrator_age_df"
   ]
  },
  {
   "cell_type": "markdown",
   "id": "77640e3c",
   "metadata": {},
   "source": [
    "# show plot for perpetrator ages\n",
    "perpetrator_age_df.plot(kind='barh', x='age', title='Perpetrator Ages')\n",
    "plt.show()"
   ]
  },
  {
   "cell_type": "markdown",
   "id": "276a7d8e",
   "metadata": {},
   "source": [
    "# perpetrator occupations data in lists (2015, 2020)\n",
    "perpetrator_occupation_2015 = {\n",
    "    'occupation': ['Uniformed', 'Extremist group members', 'Citizens, organized citizen groups'],\n",
    "    'incidents': [11, 8, 54,]\n",
    "}\n",
    "\n",
    "perpetrator_occupation_2020 = {\n",
    "    'occupation': ['Uniformed', 'Citizens, organized citizen groups'],\n",
    "    'incidents': [3, 75]\n",
    "}"
   ]
  },
  {
   "cell_type": "markdown",
   "id": "112d1c50",
   "metadata": {},
   "source": [
    "# create perpetrator occupations data frames from lists\n",
    "perpetrator_occupation_2015_df = pd.DataFrame(perpetrator_occupation_2015)\n",
    "perpetrator_occupation_2020_df = pd.DataFrame(perpetrator_occupation_2020)\n",
    "\n",
    "# merged perpetrator occupations data frame (outer join)\n",
    "perpetrator_occupation_df = pd.merge(perpetrator_occupation_2015_df, perpetrator_occupation_2020_df,\n",
    "                                     how='outer', on=\"occupation\", suffixes=(\"_2015\", \"_2020\")).fillna(0)"
   ]
  },
  {
   "cell_type": "markdown",
   "id": "80e956cb",
   "metadata": {},
   "source": [
    "# print perpetrator occupations table\n",
    "perpetrator_occupation_df"
   ]
  },
  {
   "cell_type": "markdown",
   "id": "f83cc2fb",
   "metadata": {},
   "source": [
    "# show plot for perpetrator occupations\n",
    "perpetrator_occupation_df.plot(kind='barh', x='occupation', title='Perpetrator Occupations')\n",
    "plt.show()"
   ]
  }
 ],
 "metadata": {
  "kernelspec": {
   "display_name": "Python 3 (ipykernel)",
   "language": "python",
   "name": "python3"
  },
  "language_info": {
   "codemirror_mode": {
    "name": "ipython",
    "version": 3
   },
   "file_extension": ".py",
   "mimetype": "text/x-python",
   "name": "python",
   "nbconvert_exporter": "python",
   "pygments_lexer": "ipython3",
   "version": "3.11.0"
  }
 },
 "nbformat": 4,
 "nbformat_minor": 5
}
