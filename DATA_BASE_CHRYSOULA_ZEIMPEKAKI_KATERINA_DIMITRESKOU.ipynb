import pandas as pd
import matplotlib.pyplot as plt

# region victim nationalities
victim_nationalities_2015 = {
    'nationality': ['Egypt', 'Ethiopia', 'Afghanistan', 'Bulgaria', 'India', 'Iraq', 'Iran', 'Bangladesh', 'Nigeria', 'Pakistan', 'Sudan', 'Syria'],
    'incidents': [7, 5, 11, 1, 1, 1, 3, 27, 2, 14, 1, 3],
}

victim_nationalities_2020 = {
    'nationality': ['Afghanistan', 'Syria', 'Palestine', 'Sierra Leone', 'Mixed Nationalities', 'Egypt', 'Cameroon', 'Bangladesh', 'Côte d\'Ivoire', 'Guinea', 'Denmark', 'Iran', 'Iran', 'Morocco', 'Pakistan', 'Syria/Palestine', 'Kurdish Origin'],
    'incidents': [10, 9, 6, 6, 6, 2, 2, 2, 1, 1, 1, 1, 1, 1, 1, 1, 1],
}

# create data frames
victim_nationalities_2015_df = pd.DataFrame(victim_nationalities_2015)
victim_nationalities_2020_df = pd.DataFrame(victim_nationalities_2020)
victim_nationalities_df = pd.merge(victim_nationalities_2015_df, victim_nationalities_2020_df, how='outer',
                                   on="nationality", suffixes=("_2015", "_2020")).fillna(0)

# print table
print('Victim Nationalities')
print(victim_nationalities_df)
print('\n\n')

# show plot
victim_nationalities_df.plot(
    kind='barh', x='nationality', title='Victim Nationalities')
plt.get_current_fig_manager().set_window_title('Victim Nationalities')
plt.show()
# endregion

# region victim legal status
victim_legal_status_2015 = {
    'legal_status': ['Permanent residents', 'EU citizen', 'Asylum seekers', 'Refugees', 'New arrivals', 'Undocumented', 'No status'],
    'count': [4, 1, 12, 2, 7, 3, 46]
}

victim_legal_status_2020 = {
    'legal_status': ['Asylum seekers', 'Refugees', 'Immigrants', 'Without a residence permit', 'Different types of legal status', 'European citizen of foreign origin'],
    'count': [28, 4, 6, 4, 3, 1]
}

# create data frames
victim_legal_status_2015_df = pd.DataFrame(victim_legal_status_2015)
victim_legal_status_2020_df = pd.DataFrame(victim_legal_status_2020)
victim_legal_status_df = pd.merge(victim_legal_status_2015_df, victim_legal_status_2020_df,
                                  how='outer', on="legal_status", suffixes=("_2015", "_2020")).fillna(0)

# print table
print('Victim Legal Status')
print(victim_legal_status_df)
print('\n\n')

# show plot
victim_legal_status_df.plot(
    kind='barh', x='legal_status', title='Victim Legal Status')
plt.get_current_fig_manager().set_window_title('Victim Legal Status')
plt.show()
# endregion

# region victim genders
victim_gender_2015 = {
    'gender': ['male', 'female'],
    'incidents': [70, 5]
}

victim_gender_2020 = {
    'gender': ['male', 'female', 'other'],
    'incidents': [40, 1, 37]
}

# create data frames
victim_gender_2015_df = pd.DataFrame(victim_gender_2015)
victim_gender_2020_df = pd.DataFrame(victim_gender_2020)
victim_gender_df = pd.merge(victim_gender_2015_df, victim_gender_2020_df,
                            how='outer', on="gender", suffixes=("_2015", "_2020")).fillna(0)

# print table
print('Victim Genders')
print(victim_gender_df)
print('\n\n')

# show plot
victim_gender_df.plot(
    kind='barh', x='gender', title='Victim Genders')
plt.get_current_fig_manager().set_window_title('Victim Genders')
plt.show()
# endregion

# region perpetrator nationalities
perpetrator_nationalities_2015 = {
    'nationality': ['Greek', 'Other'],
    'incidents': [71, 3],
}

perpetrator_nationalities_2020 = {
    'nationality': ['Greek', 'EU Citizen', 'Egyptian'],
    'incidents': [73, 1, 1],
}

# create data frames
perpetrator_nationalities_2015_df = pd.DataFrame(
    perpetrator_nationalities_2015)
perpetrator_nationalities_2020_df = pd.DataFrame(
    perpetrator_nationalities_2020)
perpetrator_nationalities_df = pd.merge(perpetrator_nationalities_2015_df, perpetrator_nationalities_2020_df, how='outer',
                                        on="nationality", suffixes=("_2015", "_2020")).fillna(0)

# print table
print('Perpetrator Nationalities')
print(perpetrator_nationalities_df)
print('\n\n')

# show plot
perpetrator_nationalities_df.plot(
    kind='barh', x='nationality', title='Perpetrator Nationalities')
plt.get_current_fig_manager().set_window_title('Perpetrator Nationalities')
plt.show()
# endregion

# region perpetrator genders
perpetrator_gender_2015 = {
    'gender': ['male', 'female'],
    'incidents': [66, 6]
}

perpetrator_gender_2020 = {
    'gender': ['male', 'female', 'other'],
    'incidents': [57, 2, 15]
}

# create data frames
perpetrator_gender_2015_df = pd.DataFrame(perpetrator_gender_2015)
perpetrator_gender_2020_df = pd.DataFrame(perpetrator_gender_2020)
perpetrator_gender_df = pd.merge(perpetrator_gender_2015_df, perpetrator_gender_2020_df,
                                 how='outer', on="gender", suffixes=("_2015", "_2020")).fillna(0)

# print table
print('Perpetrator Genders')
print(perpetrator_gender_df)
print('\n\n')

# show plot
perpetrator_gender_df.plot(
    kind='barh', x='gender', title='Perpetrator Genders')
plt.get_current_fig_manager().set_window_title('Perpetrator Genders')
plt.show()
# endregion

# region perpetrator ages
perpetrator_age_2015 = {
    'age': ['Under 18', 'Up to 75'],
    'incidents': [0, 67]
}

perpetrator_age_2020 = {
    'age': ['Under 18', 'Up to 75'],
    'incidents': [3, 75]
}

# create data frames
perpetrator_age_2015_df = pd.DataFrame(perpetrator_age_2015)
perpetrator_age_2020_df = pd.DataFrame(perpetrator_age_2020)
perpetrator_age_df = pd.merge(perpetrator_age_2015_df, perpetrator_age_2020_df,
                              how='outer', on="age", suffixes=("_2015", "_2020")).fillna(0)

# print table
print('Perpetrator Ages')
print(perpetrator_age_df)
print('\n\n')

# show plot
perpetrator_age_df.plot(
    kind='barh', x='age', title='Perpetrator Ages')
plt.get_current_fig_manager().set_window_title('Perpetrator Ages')
plt.show()
# endregion

# region perpetrator occupations
perpetrator_occupation_2015 = {
    'occupation': ['Uniformed', 'Extremist group members', 'Citizens, organized citizen groups'],
    'incidents': [11, 8, 54,]
}

perpetrator_occupation_2020 = {
    'occupation': ['Uniformed', 'Citizens, organized citizen groups'],
    'incidents': [3, 75]
}

# create data frames
perpetrator_occupation_2015_df = pd.DataFrame(perpetrator_occupation_2015)
perpetrator_occupation_2020_df = pd.DataFrame(perpetrator_occupation_2020)
perpetrator_occupation_df = pd.merge(perpetrator_occupation_2015_df, perpetrator_occupation_2020_df,
                                     how='outer', on="occupation", suffixes=("_2015", "_2020")).fillna(0)

# print table
print('Perpetrator Occupations')
print(perpetrator_occupation_df)
print('\n\n')

# show plot
perpetrator_occupation_df.plot(
    kind='barh', x='occupation', title='Perpetrator Occupations')
plt.get_current_fig_manager().set_window_title('Perpetrator Occupations')
plt.show()
# endregion
